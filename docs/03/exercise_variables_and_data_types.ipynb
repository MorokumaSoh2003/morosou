{
  "cells": [
    {
      "cell_type": "markdown",
      "metadata": {
        "id": "6Bzkljx8hWsh"
      },
      "source": [
        "# 第3回：変数とデータ型（演習）\n",
        "\n",
        "学籍番号：M253841\n",
        "\n",
        "氏名：諸隈颯\n",
        "\n",
        "---"
      ]
    },
    {
      "cell_type": "markdown",
      "metadata": {
        "id": "fnU6LuschWso"
      },
      "source": [
        "## 演習1：変数の代入\n",
        "整数`11`を変数`a`に代入せよ"
      ]
    },
    {
      "cell_type": "code",
      "execution_count": 1,
      "metadata": {
        "id": "EPUkLmqAhWsp"
      },
      "outputs": [],
      "source": [
        "# 解答用セル\n",
        "a = 11"
      ]
    },
    {
      "cell_type": "markdown",
      "metadata": {
        "id": "JJ1Ad0W2hWsr"
      },
      "source": [
        "## 演習2：変数の出力\n",
        "`print`文を利用して変数`a`の値を出力せよ\n",
        "\n",
        "**出力例**\n",
        "```python\n",
        "11\n",
        "```"
      ]
    },
    {
      "cell_type": "code",
      "execution_count": 2,
      "metadata": {
        "colab": {
          "base_uri": "https://localhost:8080/"
        },
        "id": "wU8NU4w6hWss",
        "outputId": "11e9aa5f-a07f-4275-8f2c-28085e43a93c"
      },
      "outputs": [
        {
          "output_type": "stream",
          "name": "stdout",
          "text": [
            "11\n"
          ]
        }
      ],
      "source": [
        "# 解答用セル\n",
        "print(a)"
      ]
    },
    {
      "cell_type": "markdown",
      "metadata": {
        "id": "-hJLEdWFhWst"
      },
      "source": [
        "## 演習3：変数の型の確認\n",
        "変数`a`のデータ型を`type`関数を利用して確認せよ\n",
        "\n",
        "**出力例**\n",
        "```python\n",
        "<class 'int'>\n",
        "```"
      ]
    },
    {
      "cell_type": "code",
      "execution_count": 4,
      "metadata": {
        "colab": {
          "base_uri": "https://localhost:8080/"
        },
        "id": "Jyp--a1UhWst",
        "outputId": "05e100a4-9c6f-449d-87d9-b64eb43742f3"
      },
      "outputs": [
        {
          "output_type": "stream",
          "name": "stdout",
          "text": [
            "<class 'int'>\n"
          ]
        }
      ],
      "source": [
        "# 解答用セル\n",
        "print(type(a))"
      ]
    },
    {
      "cell_type": "markdown",
      "metadata": {
        "id": "_GY1RZx3hWsu"
      },
      "source": [
        "## 演習4：数値データの演算"
      ]
    },
    {
      "cell_type": "markdown",
      "metadata": {
        "id": "LANWH_yRhWsv"
      },
      "source": [
        "### 演習4-1：数値データの和\n",
        "整数値13が格納された変数`a`と整数値4が格納された変数`b`をそれぞれ定義し，`a`と`b`の足し算の結果を出力せよ\n",
        "\n",
        "**出力例**\n",
        "```python\n",
        "17\n",
        "```"
      ]
    },
    {
      "cell_type": "code",
      "execution_count": 5,
      "metadata": {
        "colab": {
          "base_uri": "https://localhost:8080/"
        },
        "id": "v0xHbeYuhWsv",
        "outputId": "a1444c6e-515d-4d48-9c5d-38933453b0a5"
      },
      "outputs": [
        {
          "output_type": "stream",
          "name": "stdout",
          "text": [
            "17\n"
          ]
        }
      ],
      "source": [
        "# 解答用セル\n",
        "a = 13\n",
        "b = 4\n",
        "print(a + b)"
      ]
    },
    {
      "cell_type": "markdown",
      "metadata": {
        "id": "chGrNR6WhWsw"
      },
      "source": [
        "### 演習4-2：数値データの差\n",
        "整数値13が格納された変数`a`と整数値4が格納された変数`b`をそれぞれ定義し，`a`から`b`を引いた時の値を出力せよ\n",
        "\n",
        "**出力例**\n",
        "```python\n",
        "9\n",
        "```"
      ]
    },
    {
      "cell_type": "code",
      "execution_count": 6,
      "metadata": {
        "colab": {
          "base_uri": "https://localhost:8080/"
        },
        "id": "eC5a2OCbhWsw",
        "outputId": "ee8e41d1-e999-451e-aac4-d6aaddf4d88e"
      },
      "outputs": [
        {
          "output_type": "stream",
          "name": "stdout",
          "text": [
            "9\n"
          ]
        }
      ],
      "source": [
        "# 解答用セル\n",
        "print(a - b)"
      ]
    },
    {
      "cell_type": "markdown",
      "metadata": {
        "id": "15m-15LChWsx"
      },
      "source": [
        "### 演習4-3：数値データの積\n",
        "整数値13が格納された変数`a`と整数値4が格納された変数`b`をそれぞれ定義し，`a`と`b`の積の結果を出力せよ\n",
        "\n",
        "**出力例**\n",
        "```python\n",
        "52\n",
        "```"
      ]
    },
    {
      "cell_type": "code",
      "execution_count": 7,
      "metadata": {
        "colab": {
          "base_uri": "https://localhost:8080/"
        },
        "id": "U7MUfdjihWsx",
        "outputId": "cf23f4e8-b963-44f1-95c4-1dcdb2cf33b5"
      },
      "outputs": [
        {
          "output_type": "stream",
          "name": "stdout",
          "text": [
            "52\n"
          ]
        }
      ],
      "source": [
        "# 解答用セル\n",
        "print(a * b)"
      ]
    },
    {
      "cell_type": "markdown",
      "metadata": {
        "id": "jMe7WYCBhWsx"
      },
      "source": [
        "### 演習4-4：数値データの商\n",
        "整数値13が格納された変数`a`と整数値4が格納された変数`b`をそれぞれ定義し，`a`を`b`で割った結果を出力せよ\n",
        "\n",
        "**出力例**\n",
        "```python\n",
        "3.25\n",
        "```"
      ]
    },
    {
      "cell_type": "code",
      "execution_count": 8,
      "metadata": {
        "colab": {
          "base_uri": "https://localhost:8080/"
        },
        "id": "iid4MGRXhWsx",
        "outputId": "0d5c412d-a7dc-4ed5-a382-7132aa867f45"
      },
      "outputs": [
        {
          "output_type": "stream",
          "name": "stdout",
          "text": [
            "3.25\n"
          ]
        }
      ],
      "source": [
        "# 解答用セル\n",
        "print(a / b)"
      ]
    },
    {
      "cell_type": "markdown",
      "metadata": {
        "id": "gWX61IiAhWsy"
      },
      "source": [
        "### 演習4-5：数値データの剰余\n",
        "整数値13が格納された変数`a`と整数値4が格納された変数`b`をそれぞれ定義し，`a`を`b`で割ったときの余りを出力せよ\n",
        "\n",
        "**出力例**\n",
        "```python\n",
        "1\n",
        "```"
      ]
    },
    {
      "cell_type": "code",
      "execution_count": 9,
      "metadata": {
        "colab": {
          "base_uri": "https://localhost:8080/"
        },
        "id": "Ks9dzLw4hWsy",
        "outputId": "5019d363-0b6d-4ae2-b48a-ea71506d584e"
      },
      "outputs": [
        {
          "output_type": "stream",
          "name": "stdout",
          "text": [
            "1\n"
          ]
        }
      ],
      "source": [
        "# 解答用セル\n",
        "print(a % b)"
      ]
    },
    {
      "cell_type": "markdown",
      "metadata": {
        "id": "kpBB-2yHhWsy"
      },
      "source": [
        "### 演習4-5：数値データの冪乗\n",
        "整数値13が格納された変数`a`と整数値4が格納された変数`b`をそれぞれ定義し，$a^b$の結果を出力せよ\n",
        "\n",
        "**出力例**\n",
        "```python\n",
        "28561\n",
        "```"
      ]
    },
    {
      "cell_type": "code",
      "execution_count": 10,
      "metadata": {
        "colab": {
          "base_uri": "https://localhost:8080/"
        },
        "id": "KY5fCb6ChWsy",
        "outputId": "de00696e-9319-4993-fff9-f7595290a4ba"
      },
      "outputs": [
        {
          "output_type": "stream",
          "name": "stdout",
          "text": [
            "28561\n"
          ]
        }
      ],
      "source": [
        "# 解答用セル\n",
        "print(a ** b)"
      ]
    },
    {
      "cell_type": "markdown",
      "metadata": {
        "id": "T1Aeq9PmhWsz"
      },
      "source": [
        "## 演習5：文字列\n",
        "### 演習5-1：文字列の代入と出力\n",
        "文字列`Ground Zero Programming!`が格納された変数`s`を定義し，変数の中身とデータ型を出力せよ\n",
        "\n",
        "**出力例**\n",
        "```python\n",
        "Ground Zero Programming!\n",
        "<class 'str'>\n",
        "```"
      ]
    },
    {
      "cell_type": "code",
      "execution_count": 11,
      "metadata": {
        "colab": {
          "base_uri": "https://localhost:8080/"
        },
        "id": "QMv366iFhWsz",
        "outputId": "200dfc52-204b-4971-a861-64604362a4c1"
      },
      "outputs": [
        {
          "output_type": "stream",
          "name": "stdout",
          "text": [
            "Ground Zero Programming!\n",
            "<class 'str'>\n"
          ]
        }
      ],
      "source": [
        "# 解答用セル\n",
        "s = \"Ground Zero Programming!\"\n",
        "print(s)\n",
        "print(type(s))"
      ]
    },
    {
      "cell_type": "markdown",
      "metadata": {
        "id": "qK6aw6uMhWsz"
      },
      "source": [
        "### 演習5-2：文字数の取得\n",
        "演習5-1で定義した変数`s`の文字数を出力せよ\n",
        "\n",
        "**出力例**\n",
        "```python\n",
        "24\n",
        "```"
      ]
    },
    {
      "cell_type": "code",
      "execution_count": 12,
      "metadata": {
        "colab": {
          "base_uri": "https://localhost:8080/"
        },
        "id": "OCLbPWnqhWsz",
        "outputId": "7cb42c3e-306a-4ed2-f088-ff5ad479e983"
      },
      "outputs": [
        {
          "output_type": "stream",
          "name": "stdout",
          "text": [
            "24\n"
          ]
        }
      ],
      "source": [
        "# 解答用セル\n",
        "print(len(s))"
      ]
    },
    {
      "cell_type": "markdown",
      "metadata": {
        "id": "NV9Ne-D7hWsz"
      },
      "source": [
        "### 演習5-3：文字列のインデキシング\n",
        "演習5-1で定義した変数`s`についてインデキシングを利用して`G`，`Z`，`P`，`!`を出力せよ\n",
        "\n",
        "**出力例**\n",
        "```python\n",
        "G\n",
        "Z\n",
        "P\n",
        "!\n",
        "```"
      ]
    },
    {
      "cell_type": "code",
      "execution_count": 14,
      "metadata": {
        "colab": {
          "base_uri": "https://localhost:8080/"
        },
        "id": "9UcbEyk9hWsz",
        "outputId": "3afba44d-2886-423b-9436-9d96fe1f3695"
      },
      "outputs": [
        {
          "output_type": "stream",
          "name": "stdout",
          "text": [
            "G\n",
            "Z\n",
            "P\n",
            "!\n"
          ]
        }
      ],
      "source": [
        "# 解答用セル\n",
        "print(s[0])\n",
        "print(s[7])\n",
        "print(s[12])\n",
        "print(s[23])"
      ]
    },
    {
      "cell_type": "markdown",
      "metadata": {
        "id": "UaydsP4OhWsz"
      },
      "source": [
        "### 演習5-4：文字列のスライシング\n",
        "演習5-1で定義した変数`s`についてスライシングを利用して`Zero`を出力せよ\n",
        "\n",
        "**出力例**\n",
        "```python\n",
        "Zero\n",
        "```"
      ]
    },
    {
      "cell_type": "code",
      "execution_count": 16,
      "metadata": {
        "colab": {
          "base_uri": "https://localhost:8080/"
        },
        "id": "-GcIWWzPhWs0",
        "outputId": "d162e53f-d3dc-4758-ec2e-7fe2f563a9ee"
      },
      "outputs": [
        {
          "output_type": "stream",
          "name": "stdout",
          "text": [
            "Zero\n"
          ]
        }
      ],
      "source": [
        "# 解答用セル\n",
        "print(s[7:11])"
      ]
    },
    {
      "cell_type": "markdown",
      "metadata": {
        "id": "RBPe9j4HhWs0"
      },
      "source": [
        "## 演習6：リスト"
      ]
    },
    {
      "cell_type": "markdown",
      "metadata": {
        "id": "Cn_g8ckHhWs0"
      },
      "source": [
        "### 演習6-1：リストの作成\n",
        "以下の4つの値を持つリスト `l` を作成し，`l`の値とデータ型を出力せよ\n",
        "\n",
        "**値**\n",
        "```python\n",
        "27.4\n",
        "29.0\n",
        "33.8\n",
        "30.1\n",
        "```\n",
        "\n",
        "**出力例**\n",
        "```python\n",
        "[27.4, 29.0, 33.8, 30.1]\n",
        "<class 'list'>\n",
        "```"
      ]
    },
    {
      "cell_type": "code",
      "execution_count": 17,
      "metadata": {
        "colab": {
          "base_uri": "https://localhost:8080/"
        },
        "id": "i0KZ-BZNhWs1",
        "outputId": "7869b5e4-3027-4856-a98c-93c875786211"
      },
      "outputs": [
        {
          "output_type": "stream",
          "name": "stdout",
          "text": [
            "[27.4, 29.0, 33.8, 30.1]\n",
            "<class 'list'>\n"
          ]
        }
      ],
      "source": [
        "# 解答用セル\n",
        "l = [27.4, 29.0, 33.8, 30.1]\n",
        "print(l)\n",
        "print(type(l))"
      ]
    },
    {
      "cell_type": "markdown",
      "metadata": {
        "id": "Vorvp560hWs1"
      },
      "source": [
        "### 演習6-2：リストの要素数の計算\n",
        "演習6-1で定義したリスト`l`の要素数を出力せよ\n",
        "\n",
        "**出力例**\n",
        "```python\n",
        "4\n",
        "```"
      ]
    },
    {
      "cell_type": "code",
      "execution_count": 18,
      "metadata": {
        "colab": {
          "base_uri": "https://localhost:8080/"
        },
        "id": "E2sC-1YThWs1",
        "outputId": "38a9fad6-5b57-470c-f490-f0efa84a911c"
      },
      "outputs": [
        {
          "output_type": "stream",
          "name": "stdout",
          "text": [
            "4\n"
          ]
        }
      ],
      "source": [
        "# 解答用セル\n",
        "print(len(l))"
      ]
    },
    {
      "cell_type": "markdown",
      "metadata": {
        "id": "EAwbBTHPhWs2"
      },
      "source": [
        "### 演習6-3：リストのインデキシング\n",
        "演習6-1で定義したリスト`l`に含まれる値`33.8`をインデキシングを利用して出力せよ\n",
        "\n",
        "**出力例**\n",
        "```python\n",
        "33.8\n",
        "```"
      ]
    },
    {
      "cell_type": "code",
      "execution_count": 19,
      "metadata": {
        "colab": {
          "base_uri": "https://localhost:8080/"
        },
        "id": "ruGWPny0hWs2",
        "outputId": "7b5ad578-901a-479d-b6d2-c00754a8ced7"
      },
      "outputs": [
        {
          "output_type": "stream",
          "name": "stdout",
          "text": [
            "33.8\n"
          ]
        }
      ],
      "source": [
        "# 解答用セル\n",
        "print(l[2])"
      ]
    },
    {
      "cell_type": "markdown",
      "metadata": {
        "id": "uNne98YihWs2"
      },
      "source": [
        "### 演習6-4：リストのスライシング\n",
        "演習6-1で定義したリスト`l`に含まれる2つの値`29.0`と`33.8`をスライシングを利用して出力せよ\n",
        "\n",
        "**出力例**\n",
        "```python\n",
        "[29.0, 33.8]\n",
        "```"
      ]
    },
    {
      "cell_type": "code",
      "execution_count": 20,
      "metadata": {
        "colab": {
          "base_uri": "https://localhost:8080/"
        },
        "id": "TChOYxuMhWs2",
        "outputId": "e54755a5-d18e-4be8-ee11-2c2c6b3f0ef0"
      },
      "outputs": [
        {
          "output_type": "stream",
          "name": "stdout",
          "text": [
            "[29.0, 33.8]\n"
          ]
        }
      ],
      "source": [
        "# 解答用セル\n",
        "print(l[1:3])"
      ]
    }
  ],
  "metadata": {
    "kernelspec": {
      "display_name": "Python 3.8.8 ('py38-ml')",
      "language": "python",
      "name": "python3"
    },
    "language_info": {
      "codemirror_mode": {
        "name": "ipython",
        "version": 3
      },
      "file_extension": ".py",
      "mimetype": "text/x-python",
      "name": "python",
      "nbconvert_exporter": "python",
      "pygments_lexer": "ipython3",
      "version": "3.8.8"
    },
    "orig_nbformat": 4,
    "vscode": {
      "interpreter": {
        "hash": "393df73654aeede13ebb91076020de1190a2bd60e987ac18d822283f0caa6730"
      }
    },
    "colab": {
      "provenance": []
    }
  },
  "nbformat": 4,
  "nbformat_minor": 0
}